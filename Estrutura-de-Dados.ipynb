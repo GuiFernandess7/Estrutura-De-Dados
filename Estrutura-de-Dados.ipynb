{
 "cells": [
  {
   "cell_type": "markdown",
   "id": "c1a00d67",
   "metadata": {},
   "source": [
    "# Estrutura de Dados"
   ]
  },
  {
   "cell_type": "markdown",
   "id": "4512b4be",
   "metadata": {},
   "source": [
    "### Parte 1: Listas, Sets, Tuplas e Dicionários"
   ]
  },
  {
   "cell_type": "code",
   "execution_count": 3,
   "id": "80a508b7",
   "metadata": {},
   "outputs": [
    {
     "name": "stdout",
     "output_type": "stream",
     "text": [
      "table\n"
     ]
    }
   ],
   "source": [
    "items = [\"table\", \"phone\", \"toy\", \"wallet\", \"lamp\"]\n",
    "# Acessando primeiro item da lista\n",
    "first_item = items[0]\n",
    "print(first_item)"
   ]
  },
  {
   "cell_type": "code",
   "execution_count": 4,
   "id": "6a320d5e",
   "metadata": {},
   "outputs": [
    {
     "name": "stdout",
     "output_type": "stream",
     "text": [
      "5\n"
     ]
    }
   ],
   "source": [
    "# Acessando o tamanho da lista\n",
    "list_length = len(items)\n",
    "print(list_length)"
   ]
  },
  {
   "cell_type": "code",
   "execution_count": 7,
   "id": "04a8d9b3",
   "metadata": {},
   "outputs": [
    {
     "name": "stdout",
     "output_type": "stream",
     "text": [
      "wallet\n",
      "lamp\n"
     ]
    }
   ],
   "source": [
    "# Acessando a última e primeira palavra em ordem alfabética\n",
    "max_item = max(items)\n",
    "min_item = min(items)\n",
    "print(max_item)\n",
    "print(min_item)"
   ]
  },
  {
   "cell_type": "code",
   "execution_count": 8,
   "id": "496100cb",
   "metadata": {},
   "outputs": [
    {
     "name": "stdout",
     "output_type": "stream",
     "text": [
      "['table', 'phone', 'toy', 'wallet', 'lamp']\n",
      "['toy', 'wallet']\n",
      "['table', 'phone', 'toy']\n"
     ]
    }
   ],
   "source": [
    "# Percorrendo e filtrando os elementos da lista utilizando o slicing\n",
    "slice1 = items[0:]\n",
    "slice2 = items[2:4]\n",
    "slice3 = items[:3]\n",
    "print(slice1)\n",
    "print(slice2)\n",
    "print(slice3)"
   ]
  },
  {
   "cell_type": "code",
   "execution_count": 9,
   "id": "dc4cbcd0",
   "metadata": {},
   "outputs": [
    {
     "name": "stdout",
     "output_type": "stream",
     "text": [
      "['horse', 'goose', 'duck']\n"
     ]
    }
   ],
   "source": [
    "# Unindo listas \n",
    "animals = [\"horse\", \"goose\"]\n",
    "animal = [\"duck\"]\n",
    "all_animals = animals + animal\n",
    "print(all_animals)"
   ]
  },
  {
   "cell_type": "code",
   "execution_count": 11,
   "id": "cc4dfef2",
   "metadata": {},
   "outputs": [
    {
     "name": "stdout",
     "output_type": "stream",
     "text": [
      "['chocolate', 'bread', 'tomato', 'chocolate', 'bread', 'tomato', 'chocolate', 'bread', 'tomato']\n",
      "[2, 6, 7, 8, 2, 6, 7, 8]\n"
     ]
    }
   ],
   "source": [
    "# Multiplicando listas\n",
    "foods = [\"chocolate\", \"bread\", \"tomato\"]\n",
    "print(foods * 3)\n",
    "\n",
    "numbers = [2, 6, 7, 8]\n",
    "print(numbers * 2)"
   ]
  },
  {
   "cell_type": "code",
   "execution_count": 18,
   "id": "65c04e42",
   "metadata": {},
   "outputs": [
    {
     "name": "stdout",
     "output_type": "stream",
     "text": [
      "3\n",
      "7\n",
      "9\n",
      "11\n"
     ]
    }
   ],
   "source": [
    "# Iterando sobre a lista\n",
    "odd_numbers = [3, 7, 9, 11]\n",
    "for number in odd_numbers:\n",
    "    print(number)"
   ]
  },
  {
   "cell_type": "code",
   "execution_count": 27,
   "id": "2661be09",
   "metadata": {},
   "outputs": [
    {
     "name": "stdout",
     "output_type": "stream",
     "text": [
      "0. 3\n",
      "1. 7\n",
      "2. 9\n",
      "3. 11\n",
      "------------------------\n",
      "0. table\n",
      "1. phone\n",
      "2. toy\n",
      "3. wallet\n",
      "4. lamp\n"
     ]
    }
   ],
   "source": [
    "# Iterando e numerando elementos\n",
    "for enum, number in enumerate(odd_numbers):\n",
    "    print(f'{enum}. {number}')\n",
    "print(\"------------------------\")\n",
    "for enum, item in enumerate(items):\n",
    "    print(f'{enum}. {item}')"
   ]
  },
  {
   "cell_type": "code",
   "execution_count": 42,
   "id": "a97c5bf2",
   "metadata": {},
   "outputs": [
    {
     "name": "stdout",
     "output_type": "stream",
     "text": [
      "55\n",
      "45\n"
     ]
    }
   ],
   "source": [
    "# Somando elementos da lista\n",
    "zero_to_ten = [0, 1, 2, 3, 4, 5, 6, 7, 8, 9, 10]\n",
    "total_sum = sum(zero_to_ten)\n",
    "five_to_ten_sum = sum(zero_to_ten[5:])\n",
    "print(total_sum)\n",
    "print(five_to_ten_sum)"
   ]
  },
  {
   "cell_type": "code",
   "execution_count": 44,
   "id": "88e7a178",
   "metadata": {},
   "outputs": [
    {
     "name": "stdout",
     "output_type": "stream",
     "text": [
      "['banana', 'apple', 'orange']\n",
      "['apple', 'banana', 'orange']\n"
     ]
    }
   ],
   "source": [
    "# Ordenando em ordem alfabética sem mudar lista original\n",
    "fruits = [\"banana\", \"apple\", \"orange\"]\n",
    "sorted_fruits = sorted(fruits)\n",
    "print(fruits)\n",
    "print(sorted_fruits)"
   ]
  },
  {
   "cell_type": "code",
   "execution_count": 45,
   "id": "bc163e45",
   "metadata": {},
   "outputs": [
    {
     "name": "stdout",
     "output_type": "stream",
     "text": [
      "2\n"
     ]
    }
   ],
   "source": [
    "# Contando ocorrência de letras\n",
    "apple = fruits[1]\n",
    "print(apple.count(\"p\"))"
   ]
  },
  {
   "cell_type": "code",
   "execution_count": 47,
   "id": "c73eef48",
   "metadata": {},
   "outputs": [
    {
     "name": "stdout",
     "output_type": "stream",
     "text": [
      "0\n",
      "2\n"
     ]
    }
   ],
   "source": [
    "# Obtendo a posição da letra e do elemento na string e na lista, respectivamente.\n",
    "print(apple.index(\"a\"))\n",
    "print(fruits.index(\"orange\"))"
   ]
  },
  {
   "cell_type": "code",
   "execution_count": 52,
   "id": "7bd00d53",
   "metadata": {},
   "outputs": [
    {
     "name": "stdout",
     "output_type": "stream",
     "text": [
      "[32, 50]\n"
     ]
    }
   ],
   "source": [
    "# Transformando a tupla em uma lista\n",
    "tuple1 = (32, 50)\n",
    "new_list = list(tuple1)\n",
    "print(new_list)"
   ]
  },
  {
   "cell_type": "code",
   "execution_count": 62,
   "id": "2d9b627e",
   "metadata": {},
   "outputs": [
    {
     "name": "stdout",
     "output_type": "stream",
     "text": [
      "[0, 1, 2, 3, 4, 5, 6, 7]\n"
     ]
    }
   ],
   "source": [
    "my_numbers = [n for n in range(8)]\n",
    "print(my_numbers)"
   ]
  },
  {
   "cell_type": "code",
   "execution_count": 65,
   "id": "98c34298",
   "metadata": {},
   "outputs": [
    {
     "name": "stdout",
     "output_type": "stream",
     "text": [
      "[0, 1, 2, 5, 6, 7]\n",
      "[0, 1, 2, 5, 6, 7, 5]\n"
     ]
    }
   ],
   "source": [
    "# Deletando números da lista\n",
    "del(my_numbers[3]) # Deleta número na posição 3\n",
    "print(my_numbers)\n",
    "\n",
    "my_numbers.append(5) # Adicionando um 5 na lista\n",
    "print(my_numbers)"
   ]
  },
  {
   "cell_type": "code",
   "execution_count": 71,
   "id": "bfe2689f",
   "metadata": {},
   "outputs": [
    {
     "name": "stdout",
     "output_type": "stream",
     "text": [
      "[3, 6, 7, 2, 1, 9, 23, 56]\n"
     ]
    }
   ],
   "source": [
    "# Unindo conteúdo de listas\n",
    "x = [3, 6, 7, 2]\n",
    "y = [1, 9, 23, 56]\n",
    "x.extend(y)\n",
    "print(x)"
   ]
  },
  {
   "cell_type": "code",
   "execution_count": 72,
   "id": "8b08911b",
   "metadata": {},
   "outputs": [
    {
     "name": "stdout",
     "output_type": "stream",
     "text": [
      "[3, [2341, 4575, 8923], 6, 7, 2, 1, 9, 23, 56]\n"
     ]
    }
   ],
   "source": [
    "# Adicionando items ou listas em indices específicos\n",
    "x.insert(1, [2341, 4575, 8923])\n",
    "print(x)"
   ]
  },
  {
   "cell_type": "code",
   "execution_count": 73,
   "id": "676f227e",
   "metadata": {},
   "outputs": [
    {
     "name": "stdout",
     "output_type": "stream",
     "text": [
      "[5, 3, 7]\n"
     ]
    }
   ],
   "source": [
    "# Removendo o último elemento da lista\n",
    "z = [5, 3, 7, 3]\n",
    "z.pop()\n",
    "print(z)"
   ]
  },
  {
   "cell_type": "code",
   "execution_count": 74,
   "id": "80724e42",
   "metadata": {},
   "outputs": [
    {
     "name": "stdout",
     "output_type": "stream",
     "text": [
      "[6, 8, 3, 5]\n"
     ]
    }
   ],
   "source": [
    "x = [5, 3, 8, 6]\n",
    "x.reverse()\n",
    "print(x)"
   ]
  },
  {
   "cell_type": "code",
   "execution_count": 75,
   "id": "7bd20c26",
   "metadata": {},
   "outputs": [
    {
     "name": "stdout",
     "output_type": "stream",
     "text": [
      "[3, 5, 6, 8]\n"
     ]
    }
   ],
   "source": [
    "x = [5, 3, 8, 6]\n",
    "x.sort()\n",
    "print(x)"
   ]
  },
  {
   "cell_type": "code",
   "execution_count": 111,
   "id": "ee51fc70",
   "metadata": {},
   "outputs": [
    {
     "name": "stdout",
     "output_type": "stream",
     "text": [
      "(5, 8, 3)\n"
     ]
    }
   ],
   "source": [
    "# Função que remove itens de uma tupla\n",
    "def remove_tuple_item(item: int, args):\n",
    "    try:\n",
    "        if item in args:\n",
    "            for position, number in enumerate(args):\n",
    "                if number == item:\n",
    "                    args = list(args)\n",
    "                    del(args[position])\n",
    "                    new_tuple = tuple(args)\n",
    "                    return new_tuple\n",
    "        else:\n",
    "            return \"Número não encontrado\"\n",
    "    except Exception as e:\n",
    "        return e\n",
    "\n",
    "t = (5, 8, 3, 2)\n",
    "new_tuple = remove_tuple_item(2, t)\n",
    "print(new_tuple)"
   ]
  },
  {
   "cell_type": "code",
   "execution_count": 126,
   "id": "adfbb951",
   "metadata": {
    "scrolled": false
   },
   "outputs": [
    {
     "name": "stdout",
     "output_type": "stream",
     "text": [
      "{2, 4, 5, 7}\n",
      "{0, 3, 7, 8, 9}\n"
     ]
    }
   ],
   "source": [
    "# Uma das diferenças dos sets para as listas é que os valores são únicos\n",
    "x = {2, 7, 4, 5, 2}\n",
    "y = {9, 7, 3, 8, 0}\n",
    "print(x)\n",
    "print(y)"
   ]
  },
  {
   "cell_type": "code",
   "execution_count": 127,
   "id": "aa49cc5d",
   "metadata": {},
   "outputs": [
    {
     "name": "stdout",
     "output_type": "stream",
     "text": [
      "{2, 4, 5, 7, 10}\n",
      "{2, 4, 5, 10}\n",
      "4\n",
      "2 {4, 5, 10}\n",
      "set()\n"
     ]
    }
   ],
   "source": [
    "# Adicionando um valor ao set\n",
    "x.add(10)\n",
    "print(x)\n",
    "# Removendo um valor do set\n",
    "x.remove(7)\n",
    "print(x)\n",
    "# Acessando o tamanho do set\n",
    "print(len(x))\n",
    "# Retirando o último valor do set\n",
    "print(x.pop(), x)\n",
    "# Exclui todos os itens do set\n",
    "x.clear()\n",
    "print(x)"
   ]
  },
  {
   "cell_type": "code",
   "execution_count": 128,
   "id": "fcedc6ba",
   "metadata": {},
   "outputs": [
    {
     "name": "stdout",
     "output_type": "stream",
     "text": [
      "{65, 25}\n",
      "{32, 65, 99, 39, 11, 12, 24, 25}\n",
      "{32, 99, 39, 24, 11, 12}\n",
      "{32, 24, 12}\n",
      "False\n",
      "False\n"
     ]
    }
   ],
   "source": [
    "# Operações com sets\n",
    "z = {24, 65, 32, 12, 25}\n",
    "x = {39, 25, 99, 65, 11}\n",
    "\n",
    "# Valores iguais nos dois sets\n",
    "print(z & x)\n",
    "# União de sets\n",
    "print(z | x)\n",
    "# Sets sem valores iguais\n",
    "print(z ^ x)\n",
    "print(z - x)\n",
    "print(z <= x)\n",
    "print(z >= x)"
   ]
  },
  {
   "cell_type": "code",
   "execution_count": 17,
   "id": "a393c3b1",
   "metadata": {},
   "outputs": [
    {
     "name": "stdout",
     "output_type": "stream",
     "text": [
      "{'bife': 25.3, 'frango': 33.8, 'linguiça': 22.7}\n",
      "{'bife': 25.3, 'frango': 33.8, 'linguiça': 22.7}\n",
      "{'bife': 25.3, 'frango': 33.8, 'linguiça': 22.7}\n"
     ]
    }
   ],
   "source": [
    "# Dicionários\n",
    "\n",
    "x = {'bife':25.3, 'frango':33.8, 'linguiça':22.7}\n",
    "print(x)\n",
    "x = dict([('bife', 25.3),('frango', 33.8),('linguiça', 22.7)])\n",
    "print(x)\n",
    "x = dict(bife=25.3, frango=33.8, linguiça=22.7)\n",
    "print(x)"
   ]
  },
  {
   "cell_type": "code",
   "execution_count": 130,
   "id": "f640291a",
   "metadata": {},
   "outputs": [
    {
     "name": "stdout",
     "output_type": "stream",
     "text": [
      "{'pork': 25.3, 'beef': 33.8, 'chicken': 22.7, 'shrimp': 38.2}\n",
      "{'pork': 25.3, 'beef': 33.8, 'chicken': 22.7}\n",
      "3\n",
      "{}\n"
     ]
    }
   ],
   "source": [
    "x['shrimp'] = 38.2    # adiciona ou atualiza\n",
    "print(x)\n",
    "\n",
    "# deleta um item\n",
    "del(x['shrimp'])\n",
    "print(x)\n",
    "\n",
    "# devolve o tamanho \n",
    "print(len(x))\n",
    "\n",
    "# deleta todos os itens\n",
    "x.clear()\n",
    "print(x)\n",
    "\n",
    "# deleta o dicionario\n",
    "del(x)"
   ]
  },
  {
   "cell_type": "code",
   "execution_count": 47,
   "id": "00091970",
   "metadata": {},
   "outputs": [
    {
     "name": "stdout",
     "output_type": "stream",
     "text": [
      "dict_keys(['pork', 'beef', 'chicken'])\n",
      "dict_values([25.3, 33.8, 22.7])\n",
      "dict_items([('pork', 25.3), ('beef', 33.8), ('chicken', 22.7)])\n",
      "True\n",
      "False\n"
     ]
    }
   ],
   "source": [
    "y = {'pork':25.3, 'beef':33.8, 'chicken':22.7}\n",
    "print(y.keys())\n",
    "print(y.values())\n",
    "print(y.items())      \n",
    "\n",
    "print('beef' in y)\n",
    "\n",
    "print('clams' in y.values())"
   ]
  },
  {
   "cell_type": "code",
   "execution_count": 135,
   "id": "20811b1f",
   "metadata": {},
   "outputs": [
    {
     "name": "stdout",
     "output_type": "stream",
     "text": [
      "pork 25.3\n",
      "beef 33.8\n",
      "chicken 22.7\n",
      "pork 25.3\n",
      "beef 33.8\n",
      "chicken 22.7\n"
     ]
    }
   ],
   "source": [
    "for key in y:\n",
    "    print(key, y[key])\n",
    "    \n",
    "for k, v in y.items():\n",
    "    print(k, v)"
   ]
  },
  {
   "cell_type": "markdown",
   "id": "b8b354cf",
   "metadata": {},
   "source": [
    "### Parte 2: List and Set Comprehensions"
   ]
  },
  {
   "cell_type": "code",
   "execution_count": 136,
   "id": "d95016e2",
   "metadata": {},
   "outputs": [
    {
     "name": "stdout",
     "output_type": "stream",
     "text": [
      "{0, 1, 2, 3, 4, 5, 6, 7, 8, 9}\n"
     ]
    }
   ],
   "source": [
    "numbers = {number for number in range(10)}\n",
    "print(numbers)"
   ]
  },
  {
   "cell_type": "code",
   "execution_count": 138,
   "id": "ab34f48c",
   "metadata": {},
   "outputs": [
    {
     "name": "stdout",
     "output_type": "stream",
     "text": [
      "{0, 2, 4, 6, 8}\n"
     ]
    }
   ],
   "source": [
    "# Acessando todos os números pares de 0 a 9\n",
    "even_numbers = {number for number in range(10) if number % 2 == 0}\n",
    "print(even_numbers)"
   ]
  },
  {
   "cell_type": "code",
   "execution_count": 140,
   "id": "9931f549",
   "metadata": {},
   "outputs": [
    {
     "name": "stdout",
     "output_type": "stream",
     "text": [
      "{0, 1, 64, 4, 36, 9, 16, 49, 81, 25}\n"
     ]
    }
   ],
   "source": [
    "# Acessando os quadrados dos números\n",
    "squares = {number * number for number in range(10)}\n",
    "print(squares)"
   ]
  },
  {
   "cell_type": "code",
   "execution_count": 141,
   "id": "241feeeb",
   "metadata": {},
   "outputs": [
    {
     "name": "stdout",
     "output_type": "stream",
     "text": [
      "{0, 1, 4, 9, 16, 25}\n"
     ]
    }
   ],
   "source": [
    "sqrs = {i*i for i in range(-5, 5)}\n",
    "print(sqrs)"
   ]
  },
  {
   "cell_type": "code",
   "execution_count": 142,
   "id": "d565bfaf",
   "metadata": {},
   "outputs": [
    {
     "name": "stdout",
     "output_type": "stream",
     "text": [
      "{4, 36, 9, 16, 25}\n"
     ]
    }
   ],
   "source": [
    "# Retirando os valores repetidos com sets e mostrando seus quadrados\n",
    "list_numbers = [2, 2, 2, 2, 3, 3, 4, 5, 6, 6]\n",
    "squares = {n * n for n in list_numbers}\n",
    "print(squares)"
   ]
  },
  {
   "cell_type": "code",
   "execution_count": 144,
   "id": "37d84132",
   "metadata": {},
   "outputs": [
    {
     "name": "stdout",
     "output_type": "stream",
     "text": [
      "{43, 112, 85, 28, 62}\n"
     ]
    }
   ],
   "source": [
    "# Realizando expressões quadráticas\n",
    "# a = 2, b = 5, c = 1\n",
    "equacao = {(2*x**2 + 5*x + 10) for x in list_numbers}\n",
    "print(equacao)"
   ]
  },
  {
   "cell_type": "code",
   "execution_count": 145,
   "id": "a6634c58",
   "metadata": {},
   "outputs": [
    {
     "name": "stdout",
     "output_type": "stream",
     "text": [
      "{1, 2, 3, 98, 76}\n"
     ]
    }
   ],
   "source": [
    "nums = [[1,3],[2,3],[3,98],[76,1]]\n",
    "flat_set = {a for b in nums for a in b}\n",
    "print(flat_set)"
   ]
  },
  {
   "cell_type": "code",
   "execution_count": 146,
   "id": "6f8e1215",
   "metadata": {},
   "outputs": [
    {
     "name": "stdout",
     "output_type": "stream",
     "text": [
      "{'George', 'Albert', 'Salil', 'Ella'}\n"
     ]
    }
   ],
   "source": [
    "names = ['salil', 'ALBERT', 'Ella', 'george', 'Salil', 'George', 'ELLA', 'Albert']\n",
    "names_set = {n.capitalize() for n in names}\n",
    "print(names_set)"
   ]
  },
  {
   "cell_type": "code",
   "execution_count": 147,
   "id": "3bba3fe6",
   "metadata": {},
   "outputs": [
    {
     "name": "stdout",
     "output_type": "stream",
     "text": [
      "['George', 'Albert', 'Salil', 'Ella']\n"
     ]
    }
   ],
   "source": [
    "names_set = list({n.capitalize() for n in names})\n",
    "print(names_set)"
   ]
  },
  {
   "cell_type": "code",
   "execution_count": 148,
   "id": "d07d9019",
   "metadata": {},
   "outputs": [
    {
     "name": "stdout",
     "output_type": "stream",
     "text": [
      "{'Chevy', 'Toyota', 'Tesla'}\n"
     ]
    }
   ],
   "source": [
    "cars = ['Toyota Prius', 'Chevy Bolt', 'Tesla Model 3', 'Tesla Model Y']\n",
    "makes = {(c.split()[0]) for c in cars}\n",
    "print(makes)"
   ]
  },
  {
   "cell_type": "code",
   "execution_count": 149,
   "id": "d8dfb8ca",
   "metadata": {},
   "outputs": [
    {
     "name": "stdout",
     "output_type": "stream",
     "text": [
      "{'HP', 'CB', 'NF'}\n"
     ]
    }
   ],
   "source": [
    "names = ['Clint Barton', 'Tony', 'Nick Fury', 'Hank Pym']\n",
    "inits = {(n.split()[0][0] + n.split()[1][0]) for n in names if len(n.split())==2}\n",
    "print(inits)"
   ]
  },
  {
   "cell_type": "markdown",
   "id": "d81d8782",
   "metadata": {},
   "source": [
    "### Parte 3: Stacks (Pilhas), Queues (Filas) e Heaps (Árvores)"
   ]
  },
  {
   "cell_type": "markdown",
   "id": "63de15d3",
   "metadata": {},
   "source": [
    "  Uma pilha é um tipo de dados abstrato que consiste em uma capacidade predefinida. Permite adicionar e remover elementos em uma determinada ordem. Quando cada elemento é adicionado, ele vai para o topo da pilha. Stack permite que todos os dados sejam operações em uma extremidade somente. Assim, o único elemento que pode ser removido é o elemento na parte superior da pilha, e apenas um item pode ser lido ou removido em um determinado momento."
   ]
  },
  {
   "attachments": {
    "pilhas.png": {
     "image/png": "[encoded data removed]"
    }
   },
   "cell_type": "markdown",
   "id": "6b3d1a82",
   "metadata": {},
   "source": [
    "![pilhas.png](attachment:pilhas.png)"
   ]
  },
  {
   "cell_type": "code",
   "execution_count": 2,
   "id": "35275e83",
   "metadata": {},
   "outputs": [],
   "source": [
    "class Stack():\n",
    "    def __init__(self):\n",
    "        self.stack = list()\n",
    "    # A função push permite adicionar valores no fim da pilha\n",
    "    def push(self, item):\n",
    "        self.stack.append(item)\n",
    "    # A função pop permite retirar o último elemento da pilha \n",
    "    def pop(self):\n",
    "        if len(self.stack) > 0:\n",
    "            return self.stack.pop()\n",
    "        else:\n",
    "            return None\n",
    "    # A funçõa peek retorna o último valor da pilha\n",
    "    def peek(self):\n",
    "        if len(self.stack) > 0:\n",
    "            return self.stack[-1]\n",
    "    def __str__(self):\n",
    "        return str(self.stack)"
   ]
  },
  {
   "cell_type": "code",
   "execution_count": 8,
   "id": "29e30bec",
   "metadata": {},
   "outputs": [],
   "source": [
    "# Inicializa o objeto\n",
    "my_stack = Stack()"
   ]
  },
  {
   "cell_type": "code",
   "execution_count": 9,
   "id": "0ae85470",
   "metadata": {},
   "outputs": [
    {
     "name": "stdout",
     "output_type": "stream",
     "text": [
      "[0, 1, 2, 3, 4, 5, 6, 7, 8, 9, 10, 11]\n"
     ]
    }
   ],
   "source": [
    "for n in range(12):\n",
    "    my_stack.push(n)\n",
    "print(my_stack)"
   ]
  },
  {
   "cell_type": "markdown",
   "id": "9fffabb9",
   "metadata": {},
   "source": [
    " Como stack, a fila é uma estrutura de dados linear que armazena itens da maneira First In First Out (FIFO). Com uma fila, o item mais antigo adicionado é removido primeiro. Um bom exemplo de fila é qualquer fila de consumidores para um recurso onde o consumidor que veio primeiro é atendido primeiro."
   ]
  },
  {
   "attachments": {
    "filas-4.png": {
     "image/png": "[encoded data removed]"
    }
   },
   "cell_type": "markdown",
   "id": "e51beee8",
   "metadata": {},
   "source": [
    "![filas-4.png](attachment:filas-4.png)"
   ]
  },
  {
   "cell_type": "code",
   "execution_count": 12,
   "id": "1dcfcde4",
   "metadata": {},
   "outputs": [
    {
     "name": "stdout",
     "output_type": "stream",
     "text": [
      "deque([])\n"
     ]
    }
   ],
   "source": [
    "from collections import deque\n",
    "my_queue = deque()\n",
    "print(my_queue)"
   ]
  },
  {
   "cell_type": "code",
   "execution_count": 14,
   "id": "98adeb30",
   "metadata": {},
   "outputs": [
    {
     "name": "stdout",
     "output_type": "stream",
     "text": [
      "deque([0, 1, 2, 3, 4, 5, 6, 7, 8, 9])\n"
     ]
    }
   ],
   "source": [
    "for n in range(10):\n",
    "    my_queue.append(n)\n",
    "\n",
    "print(my_queue)"
   ]
  },
  {
   "cell_type": "code",
   "execution_count": 15,
   "id": "158df9a4",
   "metadata": {},
   "outputs": [
    {
     "name": "stdout",
     "output_type": "stream",
     "text": [
      "deque([1, 2, 3, 4, 5, 6, 7, 8, 9])\n"
     ]
    }
   ],
   "source": [
    "# Retirando primeiro elemento\n",
    "my_queue.popleft()\n",
    "print(my_queue)"
   ]
  },
  {
   "cell_type": "code",
   "execution_count": 34,
   "id": "cbd567b4",
   "metadata": {},
   "outputs": [],
   "source": [
    "class Queue():\n",
    "    def __init__(self):\n",
    "        self.queue = deque()\n",
    "        self.size = 0\n",
    "    # Adicionando item na fila\n",
    "    def enqueue(self, item):\n",
    "        self.queue.append(item)\n",
    "        self.size += 1\n",
    "    # Retirando da fila o primeira item adicionado\n",
    "    def dequeue(self):\n",
    "        if self.size > 0:\n",
    "            self.size -= 1\n",
    "            return self.queue.popleft()\n",
    "        else:\n",
    "            return None\n",
    "    # Acessando o primeiro item adicionado\n",
    "    def peek(self):\n",
    "        if self.size > 0:\n",
    "            ret_val = self.queue.popleft()\n",
    "            self.queue.appendleft(ret_val)\n",
    "            return ret_val\n",
    "        else:\n",
    "            return None\n",
    "    def get_size(self):\n",
    "        return self.size\n",
    "    def __str__(self):\n",
    "        return str(self.queue)"
   ]
  },
  {
   "cell_type": "code",
   "execution_count": 35,
   "id": "afbdfb3b",
   "metadata": {},
   "outputs": [
    {
     "name": "stdout",
     "output_type": "stream",
     "text": [
      "deque([0, 1, 2, 3, 4, 5, 6, 7, 8, 9, 10, 11, 12, 13, 14])\n"
     ]
    }
   ],
   "source": [
    "# Adicionando valores na fila\n",
    "fila = Queue()\n",
    "for n in range(15):\n",
    "    fila.enqueue(n)\n",
    "print(fila)"
   ]
  },
  {
   "cell_type": "code",
   "execution_count": 36,
   "id": "bd43133d",
   "metadata": {},
   "outputs": [
    {
     "name": "stdout",
     "output_type": "stream",
     "text": [
      "deque([1, 2, 3, 4, 5, 6, 7, 8, 9, 10, 11, 12, 13, 14])\n"
     ]
    }
   ],
   "source": [
    "# Retirando o item que foi adicionado primeiro (o zero)\n",
    "fila.dequeue()\n",
    "print(fila)"
   ]
  },
  {
   "cell_type": "code",
   "execution_count": 37,
   "id": "2b452ba6",
   "metadata": {},
   "outputs": [
    {
     "name": "stdout",
     "output_type": "stream",
     "text": [
      "1\n"
     ]
    }
   ],
   "source": [
    "primeiro_valor = fila.peek()\n",
    "print(primeiro_valor)"
   ]
  },
  {
   "cell_type": "code",
   "execution_count": 38,
   "id": "f1f2bebc",
   "metadata": {},
   "outputs": [
    {
     "name": "stdout",
     "output_type": "stream",
     "text": [
      "14\n"
     ]
    }
   ],
   "source": [
    "tamanho = fila.get_size()\n",
    "print(tamanho)"
   ]
  },
  {
   "cell_type": "markdown",
   "id": "350525ee",
   "metadata": {},
   "source": [
    "---------------------------------"
   ]
  },
  {
   "cell_type": "markdown",
   "id": "9d559dfe",
   "metadata": {},
   "source": [
    "As árvores representam um dos tipos de estruturas de dados mais importantes da computação. A estrutura de uma árvore define uma organização de elementos dispostos de forma hierárquica. A imagem abaixo ilustra a representação de uma árvore, onde é possível perceber a analogia do termo utilizado para a estrutura."
   ]
  },
  {
   "attachments": {
    "trees_01a.png": {
     "image/png": "[encoded data removed]"
    }
   },
   "cell_type": "markdown",
   "id": "7163f977",
   "metadata": {},
   "source": [
    "![trees_01a.png](attachment:trees_01a.png)"
   ]
  },
  {
   "cell_type": "markdown",
   "id": "b43866da",
   "metadata": {},
   "source": [
    "Usando numeração por níveis o nodo raiz (ou nó) recebe o número um e todos os nodos seguintes recebem uma numeração sequencial, sempre antecedidos pela numeração de seus nodos superiores.\n",
    "Observação: Os números no caso abaixo se referem aos índices dos nós."
   ]
  },
  {
   "attachments": {
    "MaxHeap.png": {
     "image/png": "[encoded data removed]"
    }
   },
   "cell_type": "markdown",
   "id": "5d1a50ed",
   "metadata": {},
   "source": [
    "![MaxHeap.png](attachment:MaxHeap.png)                                                         "
   ]
  },
  {
   "cell_type": "markdown",
   "id": "36e3af39",
   "metadata": {},
   "source": [
    "Um Max-Heap é uma árvore binária completa na qual o valor em cada nó interno é maior ou igual aos valores nos filhos desse nó. Mapear os elementos de um heap em um array é trivial: se um nó é armazenado como um índice k, então seu filho direito é armazenado no índice 2k + 1 e seu filho esquerdo no índice 2k.\n",
    "\n",
    "Na situação acima, sendo o 8 o valor do nó no índice 2, a posição de seu nó filho esquerdo seria 2 * 2 = **4** e de seu nó pai seria 2 * 2 + 1 = **5**"
   ]
  },
  {
   "attachments": {
    "image.png": {
     "image/png": "[encoded data removed]"
    }
   },
   "cell_type": "markdown",
   "id": "de05039b",
   "metadata": {},
   "source": [
    "![image.png](attachment:image.png)"
   ]
  },
  {
   "cell_type": "markdown",
   "id": "7410264c",
   "metadata": {},
   "source": [
    "Abaixo está uma classe cujo construtor recebe uma lista de valores númericos que são adicionados a outra lista ```self.heap``` e organizados em forma de árvore."
   ]
  },
  {
   "cell_type": "code",
   "execution_count": 45,
   "id": "cada6be7",
   "metadata": {},
   "outputs": [],
   "source": [
    "class MaxHeap():\n",
    "    def __init__(self, items=[]):\n",
    "        self.heap = [0]\n",
    "        for item in items:\n",
    "            self.heap.append(item)\n",
    "            self.__floatUp(len(self.heap) - 1)\n",
    "            \n",
    "    # Adicionar valor\n",
    "    def push(self, item):\n",
    "        self.heap.append(item)\n",
    "        self.__floatUp(-len(self.heap) - 1)\n",
    "        \n",
    "    # Acessar o primeiro valor adicionado\n",
    "    def peek(self):\n",
    "        if self.heap[1]:\n",
    "            return self.heap[1]\n",
    "        else:\n",
    "            return None\n",
    "    \n",
    "    # Excluir valor\n",
    "    def pop(self):\n",
    "        if len(self.heap) > 2:\n",
    "            self.__swap(1, len(self.heap) - 1)\n",
    "            max = self.heap.pop()\n",
    "            self.__bubbleDown(1)\n",
    "        elif len(self.heap) == 2:\n",
    "            max = self.heap.pop()\n",
    "        else: \n",
    "            max = False\n",
    "        return max\n",
    "    \n",
    "    # Troca dois valores de posição na árvore\n",
    "    def __swap(self, i, j):\n",
    "        self.heap[i], self.heap[j] = self.heap[j], self.heap[i]\n",
    "    \n",
    "    # Acessa o valor da posição do nó pai (nó acima) e do index e compara qual deles é maior\n",
    "    def __floatUp(self, index):\n",
    "        parent = index//2\n",
    "        if index <= 1:\n",
    "            return\n",
    "        elif self.heap[index] > self.heap[parent]:\n",
    "            self.__swap(index, parent)\n",
    "            self.__floatUp(parent)\n",
    "    \n",
    "    # Compara valor do nó pai com os dois filhos (da esquerda e da direita)\n",
    "    def __bubbleDown(self):\n",
    "        left = index * 2\n",
    "        right = index * 2 + 1\n",
    "        largest = index\n",
    "        # Se o valor de um dos nós filhos for maior que o do pai, eles trocam de lugar\n",
    "        if len(self.heap) > left and self.heap[largest] < self.heap[left]:\n",
    "            largest = left\n",
    "        if len(self.heap) > right and self.heap[largest] < self.heap[right]:\n",
    "            largest = right\n",
    "        if largest != index:\n",
    "            self.__swap(index, largest)\n",
    "            self.__bubbleDown(largest)\n",
    "    \n",
    "    # Retorna a lista    \n",
    "    def __str__(self):\n",
    "        return str(self.heap)"
   ]
  },
  {
   "cell_type": "code",
   "execution_count": 46,
   "id": "63fb0430",
   "metadata": {},
   "outputs": [
    {
     "name": "stdout",
     "output_type": "stream",
     "text": [
      "[0, 56, 21, 34, 20, 15, 19]\n",
      "[0, 56, 21, 34, 20, 15, 19, 24]\n",
      "56\n"
     ]
    }
   ],
   "source": [
    "items = MaxHeap([21, 34, 56, 20, 15, 19])\n",
    "print(items)\n",
    "items.push(24)\n",
    "print(items)\n",
    "valor_1 = items.peek()\n",
    "print(valor_1)"
   ]
  },
  {
   "attachments": {
    "maxheapp.png": {
     "image/png": "[encoded data removed]"
    }
   },
   "cell_type": "markdown",
   "id": "c39735ce",
   "metadata": {},
   "source": [
    "![maxheapp.png](attachment:maxheapp.png)"
   ]
  },
  {
   "cell_type": "markdown",
   "id": "6c529ffb",
   "metadata": {},
   "source": [
    "### Parte 4: LinkedLists (Listas Encadeadas)"
   ]
  },
  {
   "cell_type": "markdown",
   "id": "e0ee9c06",
   "metadata": {},
   "source": [
    " Lista encadeada é uma estrutura de dados linear e dinâmica. Ela é composta por uma sequência de nodos ou células que contém seus dados e também um ou dois ponteiros (\"links\") que apontam para o nodo anterior ou posterior. As listas encadeadas são úteis para representar conjuntos dinâmicos de dados. Ou seja, você não precisa definir um tamanho máximo para uma lista encadeada."
   ]
  },
  {
   "attachments": {
    "lista-encadeada.jpeg": {
     "image/jpeg": "[encoded data removed]"
    }
   },
   "cell_type": "markdown",
   "id": "54d2706d",
   "metadata": {},
   "source": [
    "![lista-encadeada.jpeg](attachment:lista-encadeada.jpeg)"
   ]
  },
  {
   "cell_type": "markdown",
   "id": "200a564a",
   "metadata": {},
   "source": [
    " No caso acima, cada número e ponteiro corresponde a um \"nó\". O nó raiz (ou nó root) será o nó inicial da lista encadeada"
   ]
  },
  {
   "cell_type": "code",
   "execution_count": 19,
   "id": "daaf82a1",
   "metadata": {},
   "outputs": [],
   "source": [
    "class Node(object):\n",
    "    \n",
    "    # A classe Node recebe como parâmetros o(s) dado(s) \"d\" e o próximo nó \"n\" que será um valor numérico\n",
    "    def __init__ (self, d, n = None):\n",
    "        self.data = d\n",
    "        self.next_node = n\n",
    "    \n",
    "    def get_next (self):\n",
    "        return self.next_node\n",
    "    \n",
    "    def set_next (self, n):\n",
    "        self.next_node = n\n",
    "        \n",
    "    def get_data (self):\n",
    "        return self.data\n",
    "    \n",
    "    def set_data (self, d):\n",
    "        self.data = d\n",
    "        \n",
    "    def to_string (self):\n",
    "        return f\"Node value -> {str(self.data)}\"\n",
    "    \n",
    "    # Se o objeto da classe Node não possuir um segundo parâmetro (n), é retornado False\n",
    "    def has_next (self):\n",
    "        if self.get_next() is None:\n",
    "            return False\n",
    "        return True\n",
    "    \n",
    "    # Se um primeiro objeto da classe Node for menor que outro objeto da mesma classe, é retornado -1\n",
    "    # Caso contrário, retorna 1\n",
    "    def compare_to (self, y):\n",
    "        if self.to_string() < y.to_string():\n",
    "            return -1\n",
    "        elif self.to_string() > y.to_string():\n",
    "            return 1\n",
    "        return 0"
   ]
  },
  {
   "cell_type": "code",
   "execution_count": 33,
   "id": "9b0af535",
   "metadata": {},
   "outputs": [
    {
     "name": "stdout",
     "output_type": "stream",
     "text": [
      "9\n",
      "3\n"
     ]
    }
   ],
   "source": [
    "mynode = Node(9, 3)\n",
    "print(mynode.get_data())\n",
    "print(mynode.get_next())"
   ]
  },
  {
   "cell_type": "code",
   "execution_count": 35,
   "id": "1c369c0a",
   "metadata": {},
   "outputs": [],
   "source": [
    "class LinkedList (object):\n",
    "    \n",
    "    def __init__ (self, r = None):\n",
    "        self.root = r\n",
    "        self.size = 0\n",
    "        \n",
    "    def get_size (self):\n",
    "        return self.size\n",
    "    \n",
    "    # O valor d é adicionado a lista encadeada\n",
    "    def add (self, d):  \n",
    "        new_node = Node (d, self.root) # O self.root corresponde a um valor inicialmente nulo\n",
    "        self.root = new_node # O self.root recebe uma lista com o valor d dentro dela.\n",
    "        self.size += 1\n",
    "    \n",
    "    # O n deve ser um objeto da classe Node\n",
    "    def add_node (self, n):\n",
    "        n.set_next(self.root)\n",
    "        self.root = n\n",
    "        self.size += 1;\n",
    "        \n",
    "    def remove (self, d):\n",
    "        this_node = self.root\n",
    "        prev_node = None\n",
    "        \n",
    "        while this_node:\n",
    "            if this_node.get_data() == d:\n",
    "                if prev_node:   # removendo nó que não está na raiz\n",
    "                    prev_node.set_next(this_node.get_next())\n",
    "                else:    # removendo nó da raiz\n",
    "                    self.root = this_node.get_next()\n",
    "                self.size -= 1\n",
    "                return True     # dado removido\n",
    "            else:\n",
    "                prev_node = this_node\n",
    "                this_node = this_node.get_next()\n",
    "        return False  # dado não encontrado\n",
    "    \n",
    "    def find (self, d):\n",
    "        this_node = self.root\n",
    "        while this_node:\n",
    "            if this_node.get_data() == d:\n",
    "                return d\n",
    "            else:\n",
    "                this_node = this_node.get_next()\n",
    "        return None\n",
    "    \n",
    "    def print_list (self):\n",
    "        print (\"Print List..........\")\n",
    "        if self.root is None:\n",
    "            return\n",
    "        current = self.root\n",
    "        print (current.to_string())\n",
    "        while current.has_next():\n",
    "            current = current.get_next()\n",
    "            print(current.to_string())\n",
    "    \n",
    "    def sort (self):\n",
    "        if self.size > 1:\n",
    "            newlist = []\n",
    "            current = self.root\n",
    "            newlist.append(self.root)\n",
    "            while current.has_next():\n",
    "                current = current.get_next()\n",
    "                newlist.append(current)\n",
    "            new_list = sorted(newlist, key = lambda node: node.get_data(), reverse = True);\n",
    "            newll = LinkedList()\n",
    "            for node in newlist:\n",
    "                newll.add_node(node)\n",
    "            return newll\n",
    "        return self\n",
    "    \n",
    "    def __str__(self):\n",
    "        return str(self.root)"
   ]
  },
  {
   "cell_type": "code",
   "execution_count": 36,
   "id": "e96bd0c7",
   "metadata": {},
   "outputs": [
    {
     "name": "stdout",
     "output_type": "stream",
     "text": [
      "Print List..........\n",
      "Node value -> 4\n",
      "Node value -> 8\n",
      "Node value -> 6\n"
     ]
    }
   ],
   "source": [
    "nova_lista = LinkedList()\n",
    "nova_lista.add(6)\n",
    "nova_lista.add(8)\n",
    "nova_lista.add(4)\n",
    "nova_lista.print_list() "
   ]
  }
 ],
 "metadata": {
  "kernelspec": {
   "display_name": "Python 3 (ipykernel)",
   "language": "python",
   "name": "python3"
  },
  "language_info": {
   "codemirror_mode": {
    "name": "ipython",
    "version": 3
   },
   "file_extension": ".py",
   "mimetype": "text/x-python",
   "name": "python",
   "nbconvert_exporter": "python",
   "pygments_lexer": "ipython3",
   "version": "3.10.3"
  }
 },
 "nbformat": 4,
 "nbformat_minor": 5
}
